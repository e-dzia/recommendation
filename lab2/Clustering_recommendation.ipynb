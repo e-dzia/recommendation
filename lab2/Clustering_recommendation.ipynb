{
 "cells": [
  {
   "cell_type": "markdown",
   "metadata": {},
   "source": [
    "Based on: https://github.com/ashishrana160796/Online-Course-Recommendation-System"
   ]
  },
  {
   "cell_type": "code",
   "execution_count": 1,
   "metadata": {},
   "outputs": [],
   "source": [
    "import numpy as np\n",
    "import pandas as pd\n",
    "from sklearn.cluster import KMeans\n",
    "import sklearn.metrics\n",
    "from sklearn.feature_extraction.text import TfidfVectorizer\n",
    "# from sklearn.decomposition import TruncatedSVD\n",
    "# from sklearn.pipeline import make_pipeline\n",
    "# from sklearn.preprocessing import Normalizer\n",
    "import pickle\n",
    "import json"
   ]
  },
  {
   "cell_type": "markdown",
   "metadata": {},
   "source": [
    "# Train - clustering"
   ]
  },
  {
   "cell_type": "code",
   "execution_count": 2,
   "metadata": {},
   "outputs": [],
   "source": [
    "dataset_path = \"datasets/tracks.csv\"\n",
    "dataset_test_path = \"datasets/tracks_test.csv\""
   ]
  },
  {
   "cell_type": "code",
   "execution_count": 3,
   "metadata": {},
   "outputs": [
    {
     "data": {
      "text/plain": [
       "(500000, 9)"
      ]
     },
     "execution_count": 3,
     "metadata": {},
     "output_type": "execute_result"
    }
   ],
   "source": [
    "df = pd.read_csv(dataset_path)\n",
    "df.shape"
   ]
  },
  {
   "cell_type": "code",
   "execution_count": 5,
   "metadata": {},
   "outputs": [],
   "source": [
    "df = df.drop(columns=[\"Unnamed: 0\", \"MBID\", \"id\"])\n",
    "df = df.fillna(-1)"
   ]
  },
  {
   "cell_type": "code",
   "execution_count": 6,
   "metadata": {},
   "outputs": [
    {
     "data": {
      "text/html": [
       "<div>\n",
       "<style scoped>\n",
       "    .dataframe tbody tr th:only-of-type {\n",
       "        vertical-align: middle;\n",
       "    }\n",
       "\n",
       "    .dataframe tbody tr th {\n",
       "        vertical-align: top;\n",
       "    }\n",
       "\n",
       "    .dataframe thead th {\n",
       "        text-align: right;\n",
       "    }\n",
       "</style>\n",
       "<table border=\"1\" class=\"dataframe\">\n",
       "  <thead>\n",
       "    <tr style=\"text-align: right;\">\n",
       "      <th></th>\n",
       "      <th>duration</th>\n",
       "      <th>playcount</th>\n",
       "      <th>name</th>\n",
       "      <th>artists</th>\n",
       "      <th>albums</th>\n",
       "      <th>tags</th>\n",
       "    </tr>\n",
       "  </thead>\n",
       "  <tbody>\n",
       "    <tr>\n",
       "      <th>0</th>\n",
       "      <td>-1</td>\n",
       "      <td>4</td>\n",
       "      <td>000003+Music+Instructor/_/Dj%27s+Rock+Da+House...</td>\n",
       "      <td>0</td>\n",
       "      <td>-1.0</td>\n",
       "      <td>-1.0</td>\n",
       "    </tr>\n",
       "    <tr>\n",
       "      <th>1</th>\n",
       "      <td>-1</td>\n",
       "      <td>495</td>\n",
       "      <td>00-01/_/%D0%A2%D0%B5%D0%BA%D1%81%D1%82</td>\n",
       "      <td>1</td>\n",
       "      <td>-1.0</td>\n",
       "      <td>-1.0</td>\n",
       "    </tr>\n",
       "    <tr>\n",
       "      <th>2</th>\n",
       "      <td>-1</td>\n",
       "      <td>2</td>\n",
       "      <td>0005.+Overkill/_/Overkill</td>\n",
       "      <td>2</td>\n",
       "      <td>-1.0</td>\n",
       "      <td>-1.0</td>\n",
       "    </tr>\n",
       "    <tr>\n",
       "      <th>3</th>\n",
       "      <td>-1</td>\n",
       "      <td>2</td>\n",
       "      <td>000C+Tony+Dize/_/Ruleta+Rusa</td>\n",
       "      <td>3</td>\n",
       "      <td>-1.0</td>\n",
       "      <td>-1.0</td>\n",
       "    </tr>\n",
       "    <tr>\n",
       "      <th>4</th>\n",
       "      <td>-1</td>\n",
       "      <td>1</td>\n",
       "      <td>000+Oscarcito/_/Tumbay%E2%80%9A+(Lyrics)</td>\n",
       "      <td>4</td>\n",
       "      <td>-1.0</td>\n",
       "      <td>-1.0</td>\n",
       "    </tr>\n",
       "  </tbody>\n",
       "</table>\n",
       "</div>"
      ],
      "text/plain": [
       "   duration  playcount                                               name  \\\n",
       "0        -1          4  000003+Music+Instructor/_/Dj%27s+Rock+Da+House...   \n",
       "1        -1        495             00-01/_/%D0%A2%D0%B5%D0%BA%D1%81%D1%82   \n",
       "2        -1          2                          0005.+Overkill/_/Overkill   \n",
       "3        -1          2                       000C+Tony+Dize/_/Ruleta+Rusa   \n",
       "4        -1          1           000+Oscarcito/_/Tumbay%E2%80%9A+(Lyrics)   \n",
       "\n",
       "   artists  albums  tags  \n",
       "0        0    -1.0  -1.0  \n",
       "1        1    -1.0  -1.0  \n",
       "2        2    -1.0  -1.0  \n",
       "3        3    -1.0  -1.0  \n",
       "4        4    -1.0  -1.0  "
      ]
     },
     "execution_count": 6,
     "metadata": {},
     "output_type": "execute_result"
    }
   ],
   "source": [
    "df.head(5)"
   ]
  },
  {
   "cell_type": "code",
   "execution_count": 7,
   "metadata": {},
   "outputs": [
    {
     "data": {
      "text/html": [
       "<div>\n",
       "<style scoped>\n",
       "    .dataframe tbody tr th:only-of-type {\n",
       "        vertical-align: middle;\n",
       "    }\n",
       "\n",
       "    .dataframe tbody tr th {\n",
       "        vertical-align: top;\n",
       "    }\n",
       "\n",
       "    .dataframe thead th {\n",
       "        text-align: right;\n",
       "    }\n",
       "</style>\n",
       "<table border=\"1\" class=\"dataframe\">\n",
       "  <thead>\n",
       "    <tr style=\"text-align: right;\">\n",
       "      <th></th>\n",
       "      <th>duration</th>\n",
       "      <th>playcount</th>\n",
       "      <th>name</th>\n",
       "      <th>artists</th>\n",
       "      <th>albums</th>\n",
       "      <th>tags</th>\n",
       "    </tr>\n",
       "  </thead>\n",
       "  <tbody>\n",
       "    <tr>\n",
       "      <th>0</th>\n",
       "      <td>-1</td>\n",
       "      <td>4</td>\n",
       "      <td>000003 Music Instructor   Dj 27s Rock Da House...</td>\n",
       "      <td>0</td>\n",
       "      <td>-1.0</td>\n",
       "      <td>-1.0</td>\n",
       "    </tr>\n",
       "    <tr>\n",
       "      <th>1</th>\n",
       "      <td>-1</td>\n",
       "      <td>495</td>\n",
       "      <td>00-01    D0 A2 D0 B5 D0 BA D1 81 D1 82</td>\n",
       "      <td>1</td>\n",
       "      <td>-1.0</td>\n",
       "      <td>-1.0</td>\n",
       "    </tr>\n",
       "    <tr>\n",
       "      <th>2</th>\n",
       "      <td>-1</td>\n",
       "      <td>2</td>\n",
       "      <td>0005. Overkill   Overkill</td>\n",
       "      <td>2</td>\n",
       "      <td>-1.0</td>\n",
       "      <td>-1.0</td>\n",
       "    </tr>\n",
       "    <tr>\n",
       "      <th>3</th>\n",
       "      <td>-1</td>\n",
       "      <td>2</td>\n",
       "      <td>000C Tony Dize   Ruleta Rusa</td>\n",
       "      <td>3</td>\n",
       "      <td>-1.0</td>\n",
       "      <td>-1.0</td>\n",
       "    </tr>\n",
       "    <tr>\n",
       "      <th>4</th>\n",
       "      <td>-1</td>\n",
       "      <td>1</td>\n",
       "      <td>000 Oscarcito   Tumbay E2 80 9A (Lyrics)</td>\n",
       "      <td>4</td>\n",
       "      <td>-1.0</td>\n",
       "      <td>-1.0</td>\n",
       "    </tr>\n",
       "  </tbody>\n",
       "</table>\n",
       "</div>"
      ],
      "text/plain": [
       "   duration  playcount                                               name  \\\n",
       "0        -1          4  000003 Music Instructor   Dj 27s Rock Da House...   \n",
       "1        -1        495             00-01    D0 A2 D0 B5 D0 BA D1 81 D1 82   \n",
       "2        -1          2                          0005. Overkill   Overkill   \n",
       "3        -1          2                       000C Tony Dize   Ruleta Rusa   \n",
       "4        -1          1           000 Oscarcito   Tumbay E2 80 9A (Lyrics)   \n",
       "\n",
       "   artists  albums  tags  \n",
       "0        0    -1.0  -1.0  \n",
       "1        1    -1.0  -1.0  \n",
       "2        2    -1.0  -1.0  \n",
       "3        3    -1.0  -1.0  \n",
       "4        4    -1.0  -1.0  "
      ]
     },
     "execution_count": 7,
     "metadata": {},
     "output_type": "execute_result"
    }
   ],
   "source": [
    "df['name'] = df['name'].replace({\"\\+\": \" \", \"_\": \" \", \"/\": \" \", \"\\%\": \" \"}, regex=True)\n",
    "df.head(5)"
   ]
  },
  {
   "cell_type": "code",
   "execution_count": 7,
   "metadata": {},
   "outputs": [],
   "source": [
    "# vectorizer = TfidfVectorizer(stop_words='english')\n",
    "# X = vectorizer.fit_transform(course_df['name'])"
   ]
  },
  {
   "cell_type": "code",
   "execution_count": 8,
   "metadata": {},
   "outputs": [
    {
     "data": {
      "text/plain": [
       "KMeans(algorithm='auto', copy_x=True, init='k-means++', max_iter=500,\n",
       "       n_clusters=30, n_init=15, n_jobs=None, precompute_distances='auto',\n",
       "       random_state=None, tol=0.0001, verbose=0)"
      ]
     },
     "execution_count": 8,
     "metadata": {},
     "output_type": "execute_result"
    }
   ],
   "source": [
    "true_k = 30\n",
    "\n",
    "# usig SVD for LSA\n",
    "# svd = TruncatedSVD(true_k)\n",
    "# lsa = make_pipeline(svd, Normalizer(copy=False))\n",
    "# X = lsa.fit_transform(X)\n",
    "df = df.drop(columns=[\"name\"])\n",
    "\n",
    "model = KMeans(n_clusters=true_k, init='k-means++', max_iter=500, n_init=15)\n",
    "model.fit(df)"
   ]
  },
  {
   "cell_type": "code",
   "execution_count": 9,
   "metadata": {},
   "outputs": [],
   "source": [
    "# Save machine learning model\n",
    "filename = 'finalized_model.sav'\n",
    "pickle.dump(model, open(filename, 'wb'))"
   ]
  },
  {
   "cell_type": "markdown",
   "metadata": {},
   "source": [
    "# Recommend"
   ]
  },
  {
   "cell_type": "code",
   "execution_count": 10,
   "metadata": {},
   "outputs": [],
   "source": [
    "def cluster_predict(row):\n",
    "    prediction = model.predict(row)\n",
    "    return prediction\n",
    "\n",
    "\n",
    "def recommend(row):\n",
    "    prediction_inp = cluster_predict(row)\n",
    "    prediction_inp = int(prediction_inp)\n",
    "    \n",
    "    temp_df = df.loc[df['cluster_prediction'] == prediction_inp]\n",
    "    temp_df = temp_df.sample(10)\n",
    "    \n",
    "    return list(temp_df['id'])"
   ]
  },
  {
   "cell_type": "code",
   "execution_count": 11,
   "metadata": {},
   "outputs": [],
   "source": [
    "with open('finalized_model.sav', 'rb') as fid:\n",
    "    model = pickle.load(fid)"
   ]
  },
  {
   "cell_type": "code",
   "execution_count": 12,
   "metadata": {},
   "outputs": [],
   "source": [
    "df = pd.read_csv(dataset_test_path)\n",
    "df = df.drop(columns=[\"Unnamed: 0\", \"MBID\", \"name\"])\n",
    "df = df.fillna(-1)\n",
    "\n",
    "df['cluster_prediction'] = \"\""
   ]
  },
  {
   "cell_type": "code",
   "execution_count": 13,
   "metadata": {},
   "outputs": [
    {
     "data": {
      "text/html": [
       "<div>\n",
       "<style scoped>\n",
       "    .dataframe tbody tr th:only-of-type {\n",
       "        vertical-align: middle;\n",
       "    }\n",
       "\n",
       "    .dataframe tbody tr th {\n",
       "        vertical-align: top;\n",
       "    }\n",
       "\n",
       "    .dataframe thead th {\n",
       "        text-align: right;\n",
       "    }\n",
       "</style>\n",
       "<table border=\"1\" class=\"dataframe\">\n",
       "  <thead>\n",
       "    <tr style=\"text-align: right;\">\n",
       "      <th></th>\n",
       "      <th>id</th>\n",
       "      <th>duration</th>\n",
       "      <th>playcount</th>\n",
       "      <th>artists</th>\n",
       "      <th>albums</th>\n",
       "      <th>tags</th>\n",
       "      <th>cluster_prediction</th>\n",
       "    </tr>\n",
       "  </thead>\n",
       "  <tbody>\n",
       "    <tr>\n",
       "      <th>0</th>\n",
       "      <td>492764</td>\n",
       "      <td>93000</td>\n",
       "      <td>163</td>\n",
       "      <td>58780</td>\n",
       "      <td>-1.0</td>\n",
       "      <td>47980.0</td>\n",
       "      <td></td>\n",
       "    </tr>\n",
       "    <tr>\n",
       "      <th>1</th>\n",
       "      <td>492765</td>\n",
       "      <td>-1</td>\n",
       "      <td>9</td>\n",
       "      <td>58780</td>\n",
       "      <td>-1.0</td>\n",
       "      <td>-1.0</td>\n",
       "      <td></td>\n",
       "    </tr>\n",
       "    <tr>\n",
       "      <th>2</th>\n",
       "      <td>492766</td>\n",
       "      <td>52000</td>\n",
       "      <td>9</td>\n",
       "      <td>58780</td>\n",
       "      <td>-1.0</td>\n",
       "      <td>230376.0</td>\n",
       "      <td></td>\n",
       "    </tr>\n",
       "    <tr>\n",
       "      <th>3</th>\n",
       "      <td>492767</td>\n",
       "      <td>399000</td>\n",
       "      <td>9</td>\n",
       "      <td>58780</td>\n",
       "      <td>-1.0</td>\n",
       "      <td>47980.0</td>\n",
       "      <td></td>\n",
       "    </tr>\n",
       "    <tr>\n",
       "      <th>4</th>\n",
       "      <td>492768</td>\n",
       "      <td>102000</td>\n",
       "      <td>9</td>\n",
       "      <td>58780</td>\n",
       "      <td>-1.0</td>\n",
       "      <td>47980.0</td>\n",
       "      <td></td>\n",
       "    </tr>\n",
       "  </tbody>\n",
       "</table>\n",
       "</div>"
      ],
      "text/plain": [
       "       id  duration  playcount  artists  albums      tags cluster_prediction\n",
       "0  492764     93000        163    58780    -1.0   47980.0                   \n",
       "1  492765        -1          9    58780    -1.0      -1.0                   \n",
       "2  492766     52000          9    58780    -1.0  230376.0                   \n",
       "3  492767    399000          9    58780    -1.0   47980.0                   \n",
       "4  492768    102000          9    58780    -1.0   47980.0                   "
      ]
     },
     "execution_count": 13,
     "metadata": {},
     "output_type": "execute_result"
    }
   ],
   "source": [
    "df.head()"
   ]
  },
  {
   "cell_type": "code",
   "execution_count": 14,
   "metadata": {},
   "outputs": [],
   "source": [
    "# Cluster category for each live course\n",
    "df['cluster_prediction'] = cluster_predict(df.drop(columns=['cluster_prediction', 'id']))"
   ]
  },
  {
   "cell_type": "code",
   "execution_count": 15,
   "metadata": {},
   "outputs": [
    {
     "data": {
      "text/html": [
       "<div>\n",
       "<style scoped>\n",
       "    .dataframe tbody tr th:only-of-type {\n",
       "        vertical-align: middle;\n",
       "    }\n",
       "\n",
       "    .dataframe tbody tr th {\n",
       "        vertical-align: top;\n",
       "    }\n",
       "\n",
       "    .dataframe thead th {\n",
       "        text-align: right;\n",
       "    }\n",
       "</style>\n",
       "<table border=\"1\" class=\"dataframe\">\n",
       "  <thead>\n",
       "    <tr style=\"text-align: right;\">\n",
       "      <th></th>\n",
       "      <th>id</th>\n",
       "      <th>duration</th>\n",
       "      <th>playcount</th>\n",
       "      <th>artists</th>\n",
       "      <th>albums</th>\n",
       "      <th>tags</th>\n",
       "      <th>cluster_prediction</th>\n",
       "    </tr>\n",
       "  </thead>\n",
       "  <tbody>\n",
       "    <tr>\n",
       "      <th>0</th>\n",
       "      <td>492764</td>\n",
       "      <td>93000</td>\n",
       "      <td>163</td>\n",
       "      <td>58780</td>\n",
       "      <td>-1.0</td>\n",
       "      <td>47980.0</td>\n",
       "      <td>19</td>\n",
       "    </tr>\n",
       "    <tr>\n",
       "      <th>1</th>\n",
       "      <td>492765</td>\n",
       "      <td>-1</td>\n",
       "      <td>9</td>\n",
       "      <td>58780</td>\n",
       "      <td>-1.0</td>\n",
       "      <td>-1.0</td>\n",
       "      <td>0</td>\n",
       "    </tr>\n",
       "    <tr>\n",
       "      <th>2</th>\n",
       "      <td>492766</td>\n",
       "      <td>52000</td>\n",
       "      <td>9</td>\n",
       "      <td>58780</td>\n",
       "      <td>-1.0</td>\n",
       "      <td>230376.0</td>\n",
       "      <td>24</td>\n",
       "    </tr>\n",
       "    <tr>\n",
       "      <th>3</th>\n",
       "      <td>492767</td>\n",
       "      <td>399000</td>\n",
       "      <td>9</td>\n",
       "      <td>58780</td>\n",
       "      <td>-1.0</td>\n",
       "      <td>47980.0</td>\n",
       "      <td>10</td>\n",
       "    </tr>\n",
       "    <tr>\n",
       "      <th>4</th>\n",
       "      <td>492768</td>\n",
       "      <td>102000</td>\n",
       "      <td>9</td>\n",
       "      <td>58780</td>\n",
       "      <td>-1.0</td>\n",
       "      <td>47980.0</td>\n",
       "      <td>19</td>\n",
       "    </tr>\n",
       "    <tr>\n",
       "      <th>5</th>\n",
       "      <td>492769</td>\n",
       "      <td>-1</td>\n",
       "      <td>3700</td>\n",
       "      <td>58780</td>\n",
       "      <td>-1.0</td>\n",
       "      <td>-1.0</td>\n",
       "      <td>0</td>\n",
       "    </tr>\n",
       "    <tr>\n",
       "      <th>6</th>\n",
       "      <td>492770</td>\n",
       "      <td>-1</td>\n",
       "      <td>2</td>\n",
       "      <td>58780</td>\n",
       "      <td>-1.0</td>\n",
       "      <td>-1.0</td>\n",
       "      <td>0</td>\n",
       "    </tr>\n",
       "    <tr>\n",
       "      <th>7</th>\n",
       "      <td>492771</td>\n",
       "      <td>41000</td>\n",
       "      <td>2</td>\n",
       "      <td>58780</td>\n",
       "      <td>-1.0</td>\n",
       "      <td>229779.0</td>\n",
       "      <td>24</td>\n",
       "    </tr>\n",
       "    <tr>\n",
       "      <th>8</th>\n",
       "      <td>492772</td>\n",
       "      <td>-1</td>\n",
       "      <td>66</td>\n",
       "      <td>58780</td>\n",
       "      <td>-1.0</td>\n",
       "      <td>-1.0</td>\n",
       "      <td>0</td>\n",
       "    </tr>\n",
       "    <tr>\n",
       "      <th>9</th>\n",
       "      <td>492773</td>\n",
       "      <td>315000</td>\n",
       "      <td>66</td>\n",
       "      <td>58780</td>\n",
       "      <td>-1.0</td>\n",
       "      <td>47980.0</td>\n",
       "      <td>28</td>\n",
       "    </tr>\n",
       "  </tbody>\n",
       "</table>\n",
       "</div>"
      ],
      "text/plain": [
       "       id  duration  playcount  artists  albums      tags  cluster_prediction\n",
       "0  492764     93000        163    58780    -1.0   47980.0                  19\n",
       "1  492765        -1          9    58780    -1.0      -1.0                   0\n",
       "2  492766     52000          9    58780    -1.0  230376.0                  24\n",
       "3  492767    399000          9    58780    -1.0   47980.0                  10\n",
       "4  492768    102000          9    58780    -1.0   47980.0                  19\n",
       "5  492769        -1       3700    58780    -1.0      -1.0                   0\n",
       "6  492770        -1          2    58780    -1.0      -1.0                   0\n",
       "7  492771     41000          2    58780    -1.0  229779.0                  24\n",
       "8  492772        -1         66    58780    -1.0      -1.0                   0\n",
       "9  492773    315000         66    58780    -1.0   47980.0                  28"
      ]
     },
     "execution_count": 15,
     "metadata": {},
     "output_type": "execute_result"
    }
   ],
   "source": [
    "df.head(10)"
   ]
  },
  {
   "cell_type": "code",
   "execution_count": 16,
   "metadata": {},
   "outputs": [
    {
     "name": "stdout",
     "output_type": "stream",
     "text": [
      "[533087, 665529, 665321, 665159, 665412, 847539, 831320, 664782, 498774, 664905]\n",
      "[635791, 643034, 793899, 536774, 954545, 793925, 821857, 793903, 793916, 793905]\n"
     ]
    }
   ],
   "source": [
    "data = [[[-1, 123, 15, -1, -1]], [[3711000,2,1732,-1.0,11702.0]]]\n",
    "\n",
    "for song in data:\n",
    "    recommendations = recommend(song)\n",
    "    print(recommendations)"
   ]
  },
  {
   "cell_type": "code",
   "execution_count": 17,
   "metadata": {},
   "outputs": [
    {
     "data": {
      "text/plain": [
       "cluster_prediction\n",
       "0     321705\n",
       "1          1\n",
       "3          1\n",
       "5      20112\n",
       "7        185\n",
       "8          3\n",
       "9         32\n",
       "10      6745\n",
       "11     21321\n",
       "12         2\n",
       "14        64\n",
       "16     17738\n",
       "17      3028\n",
       "18      2670\n",
       "19     14220\n",
       "21      4433\n",
       "23        89\n",
       "24      9400\n",
       "25     19267\n",
       "26     23606\n",
       "27     11641\n",
       "28     16005\n",
       "29       758\n",
       "Name: id, dtype: int64"
      ]
     },
     "execution_count": 17,
     "metadata": {},
     "output_type": "execute_result"
    }
   ],
   "source": [
    "df.groupby('cluster_prediction')['id'].nunique()"
   ]
  },
  {
   "cell_type": "code",
   "execution_count": 18,
   "metadata": {},
   "outputs": [
    {
     "data": {
      "text/html": [
       "<div>\n",
       "<style scoped>\n",
       "    .dataframe tbody tr th:only-of-type {\n",
       "        vertical-align: middle;\n",
       "    }\n",
       "\n",
       "    .dataframe tbody tr th {\n",
       "        vertical-align: top;\n",
       "    }\n",
       "\n",
       "    .dataframe thead th {\n",
       "        text-align: right;\n",
       "    }\n",
       "</style>\n",
       "<table border=\"1\" class=\"dataframe\">\n",
       "  <thead>\n",
       "    <tr style=\"text-align: right;\">\n",
       "      <th></th>\n",
       "      <th>id</th>\n",
       "      <th>duration</th>\n",
       "      <th>playcount</th>\n",
       "      <th>artists</th>\n",
       "      <th>albums</th>\n",
       "      <th>tags</th>\n",
       "      <th>cluster_prediction</th>\n",
       "    </tr>\n",
       "  </thead>\n",
       "  <tbody>\n",
       "    <tr>\n",
       "      <th>9</th>\n",
       "      <td>492773</td>\n",
       "      <td>315000</td>\n",
       "      <td>66</td>\n",
       "      <td>58780</td>\n",
       "      <td>-1.0</td>\n",
       "      <td>47980.0</td>\n",
       "      <td>28</td>\n",
       "    </tr>\n",
       "    <tr>\n",
       "      <th>488</th>\n",
       "      <td>493247</td>\n",
       "      <td>328000</td>\n",
       "      <td>6211</td>\n",
       "      <td>58816</td>\n",
       "      <td>30406.0</td>\n",
       "      <td>73582.0</td>\n",
       "      <td>28</td>\n",
       "    </tr>\n",
       "    <tr>\n",
       "      <th>562</th>\n",
       "      <td>493320</td>\n",
       "      <td>286000</td>\n",
       "      <td>2821</td>\n",
       "      <td>58816</td>\n",
       "      <td>30402.0</td>\n",
       "      <td>70618.0</td>\n",
       "      <td>28</td>\n",
       "    </tr>\n",
       "    <tr>\n",
       "      <th>583</th>\n",
       "      <td>493341</td>\n",
       "      <td>307000</td>\n",
       "      <td>261</td>\n",
       "      <td>58816</td>\n",
       "      <td>30401.0</td>\n",
       "      <td>34720.0</td>\n",
       "      <td>28</td>\n",
       "    </tr>\n",
       "    <tr>\n",
       "      <th>595</th>\n",
       "      <td>493353</td>\n",
       "      <td>342000</td>\n",
       "      <td>2621</td>\n",
       "      <td>58816</td>\n",
       "      <td>-1.0</td>\n",
       "      <td>117167.0</td>\n",
       "      <td>28</td>\n",
       "    </tr>\n",
       "    <tr>\n",
       "      <th>623</th>\n",
       "      <td>493380</td>\n",
       "      <td>343000</td>\n",
       "      <td>14499</td>\n",
       "      <td>58816</td>\n",
       "      <td>30401.0</td>\n",
       "      <td>12436.0</td>\n",
       "      <td>28</td>\n",
       "    </tr>\n",
       "    <tr>\n",
       "      <th>712</th>\n",
       "      <td>493464</td>\n",
       "      <td>294000</td>\n",
       "      <td>10</td>\n",
       "      <td>58816</td>\n",
       "      <td>-1.0</td>\n",
       "      <td>34720.0</td>\n",
       "      <td>28</td>\n",
       "    </tr>\n",
       "    <tr>\n",
       "      <th>719</th>\n",
       "      <td>493471</td>\n",
       "      <td>347000</td>\n",
       "      <td>1122</td>\n",
       "      <td>58816</td>\n",
       "      <td>30409.0</td>\n",
       "      <td>12039.0</td>\n",
       "      <td>28</td>\n",
       "    </tr>\n",
       "    <tr>\n",
       "      <th>745</th>\n",
       "      <td>493320</td>\n",
       "      <td>286000</td>\n",
       "      <td>3689</td>\n",
       "      <td>58816</td>\n",
       "      <td>30402.0</td>\n",
       "      <td>70618.0</td>\n",
       "      <td>28</td>\n",
       "    </tr>\n",
       "    <tr>\n",
       "      <th>806</th>\n",
       "      <td>493554</td>\n",
       "      <td>380000</td>\n",
       "      <td>535</td>\n",
       "      <td>58816</td>\n",
       "      <td>30401.0</td>\n",
       "      <td>12436.0</td>\n",
       "      <td>28</td>\n",
       "    </tr>\n",
       "  </tbody>\n",
       "</table>\n",
       "</div>"
      ],
      "text/plain": [
       "         id  duration  playcount  artists   albums      tags  \\\n",
       "9    492773    315000         66    58780     -1.0   47980.0   \n",
       "488  493247    328000       6211    58816  30406.0   73582.0   \n",
       "562  493320    286000       2821    58816  30402.0   70618.0   \n",
       "583  493341    307000        261    58816  30401.0   34720.0   \n",
       "595  493353    342000       2621    58816     -1.0  117167.0   \n",
       "623  493380    343000      14499    58816  30401.0   12436.0   \n",
       "712  493464    294000         10    58816     -1.0   34720.0   \n",
       "719  493471    347000       1122    58816  30409.0   12039.0   \n",
       "745  493320    286000       3689    58816  30402.0   70618.0   \n",
       "806  493554    380000        535    58816  30401.0   12436.0   \n",
       "\n",
       "     cluster_prediction  \n",
       "9                    28  \n",
       "488                  28  \n",
       "562                  28  \n",
       "583                  28  \n",
       "595                  28  \n",
       "623                  28  \n",
       "712                  28  \n",
       "719                  28  \n",
       "745                  28  \n",
       "806                  28  "
      ]
     },
     "execution_count": 18,
     "metadata": {},
     "output_type": "execute_result"
    }
   ],
   "source": [
    "df[df['cluster_prediction'] == 28].head(10)"
   ]
  },
  {
   "cell_type": "code",
   "execution_count": 21,
   "metadata": {},
   "outputs": [],
   "source": [
    "metrics_df = df.drop(columns=['cluster_prediction', 'id'])\n",
    "labels = df['cluster_prediction'].tolist()\n",
    "metrics = {}\n",
    "\n",
    "metrics['calinski_harabasz'] = sklearn.metrics.calinski_harabasz_score(metrics_df, labels)  # more is better\n",
    "metrics['davies_bouldin'] = sklearn.metrics.davies_bouldin_score(metrics_df, labels)  # less is better"
   ]
  },
  {
   "cell_type": "code",
   "execution_count": 25,
   "metadata": {},
   "outputs": [],
   "source": [
    "# this cell takes a long time to compute (above 10 minutes) so it's skipped\n",
    "# metrics['silhouette'] = sklearn.metrics.silhouette_score(metrics_df, labels, metric='euclidean')  # -1 (worst) to +1 (best)"
   ]
  },
  {
   "cell_type": "code",
   "execution_count": 26,
   "metadata": {},
   "outputs": [
    {
     "data": {
      "text/plain": [
       "{'calinski_harabasz': 3293217.8436075626, 'davies_bouldin': 0.8200523919592189}"
      ]
     },
     "execution_count": 26,
     "metadata": {},
     "output_type": "execute_result"
    }
   ],
   "source": [
    "metrics"
   ]
  },
  {
   "cell_type": "code",
   "execution_count": null,
   "metadata": {},
   "outputs": [],
   "source": []
  }
 ],
 "metadata": {
  "kernelspec": {
   "display_name": "Python 3",
   "language": "python",
   "name": "python3"
  },
  "language_info": {
   "codemirror_mode": {
    "name": "ipython",
    "version": 3
   },
   "file_extension": ".py",
   "mimetype": "text/x-python",
   "name": "python",
   "nbconvert_exporter": "python",
   "pygments_lexer": "ipython3",
   "version": "3.6.8"
  }
 },
 "nbformat": 4,
 "nbformat_minor": 2
}
